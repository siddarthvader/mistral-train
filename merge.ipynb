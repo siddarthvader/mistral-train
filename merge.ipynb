{
 "cells": [
  {
   "cell_type": "code",
   "execution_count": 1,
   "metadata": {},
   "outputs": [],
   "source": [
    "import argparse\n",
    "import torch\n",
    "import peft\n",
    "import json\n",
    "import shutil\n",
    "from peft.utils import _get_submodules\n",
    "import os\n",
    "import bitsandbytes as bnb\n",
    "from bitsandbytes.functional import dequantize_4bit\n",
    "from peft import PeftModel\n",
    "from transformers import AutoModelForCausalLM, AutoTokenizer, BitsAndBytesConfig #CodeLlamaTokenizer\n",
    "import gc\n",
    "import copy"
   ]
  },
  {
   "cell_type": "code",
   "execution_count": 2,
   "metadata": {},
   "outputs": [],
   "source": [
    "args={\n",
    "    \"base\":'mistralai/Mistral-7B-v0.1',\n",
    "    \"peft\":\"./md/mistral-rosti-finetune/checkpoint-25\",\n",
    "    \"push\":True,\n",
    "    \"out\":\"mistral-merge-rosti-1\"\n",
    "}"
   ]
  },
  {
   "cell_type": "code",
   "execution_count": 3,
   "metadata": {},
   "outputs": [],
   "source": [
    "def dequantize_model(model, tokenizer, to, dtype=torch.bfloat16, device=\"cuda\"):\n",
    "    \"\"\"\n",
    "    'model': the peftmodel you loaded with qlora.\n",
    "    'tokenizer': the model's corresponding hf's tokenizer.\n",
    "    'to': directory to save the dequantized model\n",
    "    'dtype': dtype that the model was trained using\n",
    "    'device': device to load the model to\n",
    "    \"\"\"\n",
    "    if os.path.exists(to):\n",
    "        return AutoModelForCausalLM.from_pretrained(to, torch_dtype=torch.bfloat16, device_map=\"auto\")\n",
    "    os.makedirs(to, exist_ok=True)\n",
    "    cls = bnb.nn.Linear4bit\n",
    "    with torch.no_grad():\n",
    "        for name, module in model.named_modules():\n",
    "            if isinstance(module, cls):\n",
    "                print(f\"Dequantizing `{name}`...\")\n",
    "                quant_state = copy.deepcopy(module.weight.quant_state)\n",
    "                quant_state[2] = dtype\n",
    "                weights = dequantize_4bit(module.weight.data, quant_state=quant_state, quant_type=\"nf4\").to(dtype)\n",
    "                new_module = torch.nn.Linear(module.in_features, module.out_features, bias=None, dtype=dtype)\n",
    "                new_module.weight = torch.nn.Parameter(weights)\n",
    "                new_module.to(device=device, dtype=dtype)\n",
    "                parent, target, target_name = _get_submodules(model, name)\n",
    "                setattr(parent, target_name, new_module)\n",
    "        model.is_loaded_in_4bit = False\n",
    "        print(\"Saving dequantized model...\")\n",
    "        model.save_pretrained(to)\n",
    "        tokenizer.save_pretrained(to)\n",
    "        config_data = json.loads(open(os.path.join(to, 'config.json'), 'r').read())\n",
    "        config_data.pop(\"quantization_config\", None)\n",
    "        config_data.pop(\"pretraining_tp\", None)\n",
    "        with open(os.path.join(to, 'config.json'), 'w') as config:\n",
    "            config.write(json.dumps(config_data, indent=2))\n",
    "        return model"
   ]
  },
  {
   "cell_type": "code",
   "execution_count": 4,
   "metadata": {},
   "outputs": [
    {
     "data": {
      "text/plain": [
       "{'base': 'mistralai/Mistral-7B-v0.1',\n",
       " 'peft': './md/mistral-rosti-finetune/checkpoint-25',\n",
       " 'push': True,\n",
       " 'out': 'mistral-merge-rosti-1'}"
      ]
     },
     "execution_count": 4,
     "metadata": {},
     "output_type": "execute_result"
    }
   ],
   "source": [
    "args"
   ]
  },
  {
   "cell_type": "code",
   "execution_count": 5,
   "metadata": {},
   "outputs": [],
   "source": [
    "model_path = args['base']\n",
    "adapter_path = args['peft']\n",
    "quantization_config=BitsAndBytesConfig(\n",
    "    load_in_4bit=True,\n",
    "    bnb_4bit_compute_dtype=torch.bfloat16,\n",
    "    bnb_4bit_use_double_quant=True,\n",
    "    bnb_4bit_quant_type=\"nf4\",\n",
    ")\n"
   ]
  },
  {
   "cell_type": "code",
   "execution_count": 6,
   "metadata": {},
   "outputs": [
    {
     "name": "stdout",
     "output_type": "stream",
     "text": [
      "Loading base model: mistralai/Mistral-7B-v0.1\n"
     ]
    }
   ],
   "source": [
    "print(f\"Loading base model: {model_path}\")\n",
    "model = None\n",
    "tokenizer = AutoTokenizer.from_pretrained(model_path)\n",
    "   \n"
   ]
  },
  {
   "cell_type": "code",
   "execution_count": 7,
   "metadata": {},
   "outputs": [
    {
     "data": {
      "text/plain": [
       "'mistralai/Mistral-7B-v0.1'"
      ]
     },
     "execution_count": 7,
     "metadata": {},
     "output_type": "execute_result"
    }
   ],
   "source": [
    "model_path"
   ]
  },
  {
   "cell_type": "code",
   "execution_count": 8,
   "metadata": {},
   "outputs": [
    {
     "data": {
      "application/vnd.jupyter.widget-view+json": {
       "model_id": "4da12e01e08648878a0345992d469121",
       "version_major": 2,
       "version_minor": 0
      },
      "text/plain": [
       "Loading checkpoint shards:   0%|          | 0/3 [00:00<?, ?it/s]"
      ]
     },
     "metadata": {},
     "output_type": "display_data"
    }
   ],
   "source": [
    "if os.path.exists(f\"{model_path}-dequantized\"):\n",
    "    model = AutoModelForCausalLM.from_pretrained(\n",
    "        f\"{model_path}-dequantized\",\n",
    "        torch_dtype=torch.bfloat16,\n",
    "        device_map=\"auto\",\n",
    "    )\n",
    "else:\n",
    "    model = AutoModelForCausalLM.from_pretrained(\n",
    "        model_path,\n",
    "        load_in_4bit=True,\n",
    "        torch_dtype=torch.bfloat16,\n",
    "        quantization_config=quantization_config,\n",
    "        device_map=\"auto\",\n",
    "    )\n",
    "    model = dequantize_model(model, tokenizer, to=f\"{model_path}-dequantized\")"
   ]
  },
  {
   "cell_type": "code",
   "execution_count": 9,
   "metadata": {},
   "outputs": [
    {
     "data": {
      "text/plain": [
       "'./md/mistral-rosti-finetune/checkpoint-25'"
      ]
     },
     "execution_count": 9,
     "metadata": {},
     "output_type": "execute_result"
    }
   ],
   "source": [
    "adapter_path"
   ]
  },
  {
   "cell_type": "code",
   "execution_count": 10,
   "metadata": {},
   "outputs": [],
   "source": [
    "model = PeftModel.from_pretrained(model=model, model_id=adapter_path)  "
   ]
  },
  {
   "cell_type": "code",
   "execution_count": 11,
   "metadata": {},
   "outputs": [],
   "source": [
    "model = model.merge_and_unload()"
   ]
  },
  {
   "cell_type": "code",
   "execution_count": 12,
   "metadata": {},
   "outputs": [
    {
     "name": "stdout",
     "output_type": "stream",
     "text": [
      "Successfully loaded and merged model, saving...\n"
     ]
    }
   ],
   "source": [
    "print(\"Successfully loaded and merged model, saving...\")\n",
    "model.save_pretrained(args['out'], safe_serialization=True, max_shard_size='4GB')"
   ]
  },
  {
   "cell_type": "code",
   "execution_count": 13,
   "metadata": {},
   "outputs": [
    {
     "data": {
      "text/plain": [
       "('mistral-merge-rosti-1/tokenizer_config.json',\n",
       " 'mistral-merge-rosti-1/special_tokens_map.json',\n",
       " 'mistral-merge-rosti-1/tokenizer.json')"
      ]
     },
     "execution_count": 13,
     "metadata": {},
     "output_type": "execute_result"
    }
   ],
   "source": [
    "tokenizer.save_pretrained(args['out'])"
   ]
  },
  {
   "cell_type": "code",
   "execution_count": 14,
   "metadata": {},
   "outputs": [],
   "source": [
    "config_data = json.loads(open(os.path.join(args['out'], 'config.json'), 'r').read())\n",
    "config_data.pop(\"quantization_config\", None)\n",
    "config_data.pop(\"pretraining_tp\", None)\n",
    "    "
   ]
  },
  {
   "cell_type": "code",
   "execution_count": 15,
   "metadata": {},
   "outputs": [
    {
     "name": "stdout",
     "output_type": "stream",
     "text": [
      "Model saved\n"
     ]
    }
   ],
   "source": [
    "with open(os.path.join(args['out'], 'config.json'), 'w') as config:\n",
    "    config.write(json.dumps(config_data, indent=2))\n",
    "print(f\"Model saved\")"
   ]
  },
  {
   "cell_type": "code",
   "execution_count": 16,
   "metadata": {},
   "outputs": [
    {
     "name": "stdout",
     "output_type": "stream",
     "text": [
      "Saving to hub ...\n"
     ]
    }
   ],
   "source": [
    "print(f\"Saving to hub ...\")\n",
    "model.push_to_hub(args['out'], use_temp_dir=False)\n",
    "tokenizer.push_to_hub(args['out'], use_temp_dir=False)\n",
    "print(\"Model successfully pushed to hf.\")"
   ]
  }
 ],
 "metadata": {
  "kernelspec": {
   "display_name": "Python 3",
   "language": "python",
   "name": "python3"
  },
  "language_info": {
   "codemirror_mode": {
    "name": "ipython",
    "version": 3
   },
   "file_extension": ".py",
   "mimetype": "text/x-python",
   "name": "python",
   "nbconvert_exporter": "python",
   "pygments_lexer": "ipython3",
   "version": "3.10.12"
  }
 },
 "nbformat": 4,
 "nbformat_minor": 2
}
